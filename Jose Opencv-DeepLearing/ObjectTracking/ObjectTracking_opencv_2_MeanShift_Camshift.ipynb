{
 "cells": [
  {
   "cell_type": "code",
   "execution_count": 20,
   "metadata": {},
   "outputs": [],
   "source": [
    "import numpy as np\n",
    "import cv2"
   ]
  },
  {
   "cell_type": "code",
   "execution_count": 25,
   "metadata": {},
   "outputs": [],
   "source": [
    "cap = cv2.VideoCapture(0)\n",
    "\n",
    "ret, frame = cap.read()\n",
    "\n",
    "face_cascade = cv2.CascadeClassifier('Computer-Vision-with-Python/DATA/haarcascades/haarcascade_frontalface_default.xml')\n",
    "face_rects = face_cascade.detectMultiScale(frame)#returns list\n",
    "\n",
    "(face_x,face_y,w,h)=tuple(face_rects[0]) # set out tracking window\n",
    "track_window = (face_x,face_y,w,h)\n",
    "\n",
    "roi = frame[face_y:face_y+h,face_x:face_x+w]\n",
    "\n",
    "hsv_roi = cv2.cvtColor(roi,cv2.COLOR_BGR2HSV)\n",
    "\n",
    "roi_hist = cv2.calcHist([hsv_roi],[0],None,[180],[0,180])\n",
    "\n",
    "cv2.normalize(roi_hist,roi_hist,0,255,cv2.NORM_MINMAX)\n",
    "\n",
    "term_crit = (cv2.TERM_CRITERIA_EPS | cv2.TERM_CRITERIA_COUNT,10,1)\n",
    "\n",
    "while True:\n",
    "    \n",
    "    ret, frame = cap.read()\n",
    "    \n",
    "    if ret == True:\n",
    "        hsv = cv2.cvtColor(frame,cv2.COLOR_BGR2HSV)\n",
    "        dst = cv2.calcBackProject([hsv],[0],roi_hist,[0,180],1)\n",
    "        ####################################################\n",
    "        #ret , track_window = cv2.meanShift(dst,track_window,term_crit)\n",
    "        \n",
    "        #x,y,w,h = track_window\n",
    "        #img2 = cv2.rectangle(frame,(x,y),(x+w,y+h),(0,0,255),5)\n",
    "        ret, track_window = cv2.CamShift(dst,track_window,term_crit)\n",
    "        points = cv2.boxPoints(ret)\n",
    "        points = np.int0(points)\n",
    "        img2 = cv2.polylines(frame,[points],True,(0,0,255),5)\n",
    "        #####################################################\n",
    "        cv2.imshow('img',img2)\n",
    "    else:\n",
    "        break\n",
    "        \n",
    "        \n",
    "    k=cv2.waitKey(1) & 0xFF\n",
    "    \n",
    "    if k== 27:\n",
    "        break\n",
    "        \n",
    "        \n",
    "        \n",
    "cap.release()\n",
    "cv2.destroyAllWindows()"
   ]
  },
  {
   "cell_type": "code",
   "execution_count": null,
   "metadata": {},
   "outputs": [],
   "source": []
  },
  {
   "cell_type": "code",
   "execution_count": null,
   "metadata": {},
   "outputs": [],
   "source": []
  }
 ],
 "metadata": {
  "kernelspec": {
   "display_name": "Python 3",
   "language": "python",
   "name": "python3"
  },
  "language_info": {
   "codemirror_mode": {
    "name": "ipython",
    "version": 3
   },
   "file_extension": ".py",
   "mimetype": "text/x-python",
   "name": "python",
   "nbconvert_exporter": "python",
   "pygments_lexer": "ipython3",
   "version": "3.6.6"
  }
 },
 "nbformat": 4,
 "nbformat_minor": 2
}
