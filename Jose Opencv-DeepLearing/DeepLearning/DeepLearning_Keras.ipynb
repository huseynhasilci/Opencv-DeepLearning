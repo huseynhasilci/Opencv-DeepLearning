{
 "cells": [
  {
   "cell_type": "code",
   "execution_count": 1,
   "metadata": {},
   "outputs": [],
   "source": [
    "import numpy as np\n",
    "from numpy import genfromtxt"
   ]
  },
  {
   "cell_type": "code",
   "execution_count": 2,
   "metadata": {},
   "outputs": [],
   "source": [
    "data = genfromtxt(\"Computer-Vision-with-Python/DATA/bank_note_data.txt\",delimiter = ',')"
   ]
  },
  {
   "cell_type": "code",
   "execution_count": 3,
   "metadata": {},
   "outputs": [
    {
     "data": {
      "text/plain": [
       "array([[  3.6216 ,   8.6661 ,  -2.8073 ,  -0.44699,   0.     ],\n",
       "       [  4.5459 ,   8.1674 ,  -2.4586 ,  -1.4621 ,   0.     ],\n",
       "       [  3.866  ,  -2.6383 ,   1.9242 ,   0.10645,   0.     ],\n",
       "       ...,\n",
       "       [ -3.7503 , -13.4586 ,  17.5932 ,  -2.7771 ,   1.     ],\n",
       "       [ -3.5637 ,  -8.3827 ,  12.393  ,  -1.2823 ,   1.     ],\n",
       "       [ -2.5419 ,  -0.65804,   2.6842 ,   1.1952 ,   1.     ]])"
      ]
     },
     "execution_count": 3,
     "metadata": {},
     "output_type": "execute_result"
    }
   ],
   "source": [
    "data #if last index of array is 0 it will be forgery and if it is 1  it will be authentic"
   ]
  },
  {
   "cell_type": "code",
   "execution_count": 4,
   "metadata": {},
   "outputs": [],
   "source": [
    "labels = data[:,4]"
   ]
  },
  {
   "cell_type": "code",
   "execution_count": 5,
   "metadata": {},
   "outputs": [
    {
     "data": {
      "text/plain": [
       "array([0., 0., 0., ..., 1., 1., 1.])"
      ]
     },
     "execution_count": 5,
     "metadata": {},
     "output_type": "execute_result"
    }
   ],
   "source": [
    "labels"
   ]
  },
  {
   "cell_type": "code",
   "execution_count": 6,
   "metadata": {},
   "outputs": [],
   "source": [
    "features = data[:,0:4]"
   ]
  },
  {
   "cell_type": "code",
   "execution_count": 7,
   "metadata": {},
   "outputs": [
    {
     "data": {
      "text/plain": [
       "array([[  3.6216 ,   8.6661 ,  -2.8073 ,  -0.44699],\n",
       "       [  4.5459 ,   8.1674 ,  -2.4586 ,  -1.4621 ],\n",
       "       [  3.866  ,  -2.6383 ,   1.9242 ,   0.10645],\n",
       "       ...,\n",
       "       [ -3.7503 , -13.4586 ,  17.5932 ,  -2.7771 ],\n",
       "       [ -3.5637 ,  -8.3827 ,  12.393  ,  -1.2823 ],\n",
       "       [ -2.5419 ,  -0.65804,   2.6842 ,   1.1952 ]])"
      ]
     },
     "execution_count": 7,
     "metadata": {},
     "output_type": "execute_result"
    }
   ],
   "source": [
    "features"
   ]
  },
  {
   "cell_type": "code",
   "execution_count": 8,
   "metadata": {},
   "outputs": [],
   "source": [
    "X = features\n",
    "y=labels"
   ]
  },
  {
   "cell_type": "code",
   "execution_count": 9,
   "metadata": {},
   "outputs": [],
   "source": [
    "from sklearn.model_selection import train_test_split"
   ]
  },
  {
   "cell_type": "code",
   "execution_count": 11,
   "metadata": {},
   "outputs": [],
   "source": [
    "X_train,X_test,y_train,y_test = train_test_split(X,y,test_size = 0.33,random_state=42)"
   ]
  },
  {
   "cell_type": "code",
   "execution_count": 12,
   "metadata": {},
   "outputs": [
    {
     "data": {
      "text/plain": [
       "array([[-0.8734  , -0.033118, -0.20165 ,  0.55774 ],\n",
       "       [ 2.0177  ,  1.7982  , -2.9581  ,  0.2099  ],\n",
       "       [-0.36038 ,  4.1158  ,  3.1143  , -0.37199 ],\n",
       "       ...,\n",
       "       [-7.0364  ,  9.2931  ,  0.16594 , -4.5396  ],\n",
       "       [-3.4605  ,  2.6901  ,  0.16165 , -1.0224  ],\n",
       "       [-3.3582  , -7.2404  , 11.4419  , -0.57113 ]])"
      ]
     },
     "execution_count": 12,
     "metadata": {},
     "output_type": "execute_result"
    }
   ],
   "source": [
    "X_train"
   ]
  },
  {
   "cell_type": "code",
   "execution_count": 13,
   "metadata": {},
   "outputs": [],
   "source": [
    "from sklearn.preprocessing import MinMaxScaler"
   ]
  },
  {
   "cell_type": "code",
   "execution_count": 14,
   "metadata": {},
   "outputs": [],
   "source": [
    "scaler_object = MinMaxScaler()"
   ]
  },
  {
   "cell_type": "code",
   "execution_count": 15,
   "metadata": {},
   "outputs": [
    {
     "data": {
      "text/plain": [
       "MinMaxScaler(copy=True, feature_range=(0, 1))"
      ]
     },
     "execution_count": 15,
     "metadata": {},
     "output_type": "execute_result"
    }
   ],
   "source": [
    "scaler_object.fit(X_train)"
   ]
  },
  {
   "cell_type": "code",
   "execution_count": 16,
   "metadata": {},
   "outputs": [],
   "source": [
    "scaled_X_train = scaler_object.transform(X_train)"
   ]
  },
  {
   "cell_type": "code",
   "execution_count": 17,
   "metadata": {},
   "outputs": [],
   "source": [
    "scaled_X_test = scaler_object.transform(X_test)"
   ]
  },
  {
   "cell_type": "code",
   "execution_count": 18,
   "metadata": {},
   "outputs": [
    {
     "data": {
      "text/plain": [
       "1.0000000000000002"
      ]
     },
     "execution_count": 18,
     "metadata": {},
     "output_type": "execute_result"
    }
   ],
   "source": [
    "scaled_X_train.max()"
   ]
  },
  {
   "cell_type": "code",
   "execution_count": 20,
   "metadata": {},
   "outputs": [],
   "source": [
    "from keras.models import Sequential\n",
    "from keras.layers import Dense"
   ]
  },
  {
   "cell_type": "code",
   "execution_count": 21,
   "metadata": {},
   "outputs": [],
   "source": [
    "model = Sequential()\n",
    "model.add(Dense(4,input_dim=4,activation='relu'))\n",
    "\n",
    "model.add(Dense(8,activation='relu'))\n",
    "\n",
    "model.add(Dense(1,activation='sigmoid'))"
   ]
  },
  {
   "cell_type": "code",
   "execution_count": 22,
   "metadata": {},
   "outputs": [],
   "source": [
    "model.compile(loss ='binary_crossentropy',optimizer='adam',metrics=['accuracy'])"
   ]
  },
  {
   "cell_type": "code",
   "execution_count": 23,
   "metadata": {},
   "outputs": [
    {
     "name": "stdout",
     "output_type": "stream",
     "text": [
      "Epoch 1/50\n",
      " - 0s - loss: 0.7190 - acc: 0.5495\n",
      "Epoch 2/50\n",
      " - 0s - loss: 0.6740 - acc: 0.5495\n",
      "Epoch 3/50\n",
      " - 0s - loss: 0.6524 - acc: 0.5495\n",
      "Epoch 4/50\n",
      " - 0s - loss: 0.6404 - acc: 0.5495\n",
      "Epoch 5/50\n",
      " - 0s - loss: 0.6319 - acc: 0.5495\n",
      "Epoch 6/50\n",
      " - 0s - loss: 0.6238 - acc: 0.5495\n",
      "Epoch 7/50\n",
      " - 0s - loss: 0.6152 - acc: 0.5495\n",
      "Epoch 8/50\n",
      " - 0s - loss: 0.6061 - acc: 0.5495\n",
      "Epoch 9/50\n",
      " - 0s - loss: 0.5956 - acc: 0.5495\n",
      "Epoch 10/50\n",
      " - 0s - loss: 0.5838 - acc: 0.5495\n",
      "Epoch 11/50\n",
      " - 0s - loss: 0.5713 - acc: 0.5767\n",
      "Epoch 12/50\n",
      " - 0s - loss: 0.5577 - acc: 0.6387\n",
      "Epoch 13/50\n",
      " - 0s - loss: 0.5437 - acc: 0.6692\n",
      "Epoch 14/50\n",
      " - 0s - loss: 0.5284 - acc: 0.7530\n",
      "Epoch 15/50\n",
      " - 0s - loss: 0.5123 - acc: 0.7791\n",
      "Epoch 16/50\n",
      " - 0s - loss: 0.4960 - acc: 0.8063\n",
      "Epoch 17/50\n",
      " - 0s - loss: 0.4795 - acc: 0.8139\n",
      "Epoch 18/50\n",
      " - 0s - loss: 0.4631 - acc: 0.8368\n",
      "Epoch 19/50\n",
      " - 0s - loss: 0.4480 - acc: 0.8400\n",
      "Epoch 20/50\n",
      " - 0s - loss: 0.4328 - acc: 0.8760\n",
      "Epoch 21/50\n",
      " - 0s - loss: 0.4189 - acc: 0.8857\n",
      "Epoch 22/50\n",
      " - 0s - loss: 0.4055 - acc: 0.8836\n",
      "Epoch 23/50\n",
      " - 0s - loss: 0.3929 - acc: 0.9075\n",
      "Epoch 24/50\n",
      " - 0s - loss: 0.3807 - acc: 0.9086\n",
      "Epoch 25/50\n",
      " - 0s - loss: 0.3690 - acc: 0.9151\n",
      "Epoch 26/50\n",
      " - 0s - loss: 0.3578 - acc: 0.9304\n",
      "Epoch 27/50\n",
      " - 0s - loss: 0.3473 - acc: 0.9304\n",
      "Epoch 28/50\n",
      " - 0s - loss: 0.3372 - acc: 0.9314\n",
      "Epoch 29/50\n",
      " - 0s - loss: 0.3280 - acc: 0.9347\n",
      "Epoch 30/50\n",
      " - 0s - loss: 0.3186 - acc: 0.9380\n",
      "Epoch 31/50\n",
      " - 0s - loss: 0.3098 - acc: 0.9412\n",
      "Epoch 32/50\n",
      " - 0s - loss: 0.3022 - acc: 0.9478\n",
      "Epoch 33/50\n",
      " - 0s - loss: 0.2943 - acc: 0.9456\n",
      "Epoch 34/50\n",
      " - 0s - loss: 0.2866 - acc: 0.9499\n",
      "Epoch 35/50\n",
      " - 0s - loss: 0.2794 - acc: 0.9499\n",
      "Epoch 36/50\n",
      " - 0s - loss: 0.2724 - acc: 0.9543\n",
      "Epoch 37/50\n",
      " - 0s - loss: 0.2656 - acc: 0.9543\n",
      "Epoch 38/50\n",
      " - 0s - loss: 0.2596 - acc: 0.9554\n",
      "Epoch 39/50\n",
      " - 0s - loss: 0.2540 - acc: 0.9554\n",
      "Epoch 40/50\n",
      " - 0s - loss: 0.2473 - acc: 0.9565\n",
      "Epoch 41/50\n",
      " - 0s - loss: 0.2422 - acc: 0.9619\n",
      "Epoch 42/50\n",
      " - 0s - loss: 0.2365 - acc: 0.9608\n",
      "Epoch 43/50\n",
      " - 0s - loss: 0.2315 - acc: 0.9587\n",
      "Epoch 44/50\n",
      " - 0s - loss: 0.2269 - acc: 0.9608\n",
      "Epoch 45/50\n",
      " - 0s - loss: 0.2212 - acc: 0.9608\n",
      "Epoch 46/50\n",
      " - 0s - loss: 0.2163 - acc: 0.9619\n",
      "Epoch 47/50\n",
      " - 0s - loss: 0.2120 - acc: 0.9608\n",
      "Epoch 48/50\n",
      " - 0s - loss: 0.2080 - acc: 0.9619\n",
      "Epoch 49/50\n",
      " - 0s - loss: 0.2032 - acc: 0.9619\n",
      "Epoch 50/50\n",
      " - 0s - loss: 0.1988 - acc: 0.9619\n"
     ]
    },
    {
     "data": {
      "text/plain": [
       "<keras.callbacks.History at 0x167f5ac0630>"
      ]
     },
     "execution_count": 23,
     "metadata": {},
     "output_type": "execute_result"
    }
   ],
   "source": [
    "model.fit(scaled_X_train,y_train,epochs=50,verbose=2)"
   ]
  },
  {
   "cell_type": "code",
   "execution_count": 27,
   "metadata": {},
   "outputs": [],
   "source": [
    "#model.predict_classes(scaled_X_test)"
   ]
  },
  {
   "cell_type": "code",
   "execution_count": 28,
   "metadata": {},
   "outputs": [
    {
     "data": {
      "text/plain": [
       "['loss', 'acc']"
      ]
     },
     "execution_count": 28,
     "metadata": {},
     "output_type": "execute_result"
    }
   ],
   "source": [
    "model.metrics_names"
   ]
  },
  {
   "cell_type": "code",
   "execution_count": 41,
   "metadata": {},
   "outputs": [],
   "source": [
    "from sklearn.metrics import confusion_matrix,classification_report,accuracy_score\n"
   ]
  },
  {
   "cell_type": "code",
   "execution_count": 30,
   "metadata": {},
   "outputs": [],
   "source": [
    "prerdictions = model.predict_classes(scaled_X_test)"
   ]
  },
  {
   "cell_type": "code",
   "execution_count": 31,
   "metadata": {},
   "outputs": [
    {
     "data": {
      "text/plain": [
       "array([[256,   1],\n",
       "       [ 11, 185]], dtype=int64)"
      ]
     },
     "execution_count": 31,
     "metadata": {},
     "output_type": "execute_result"
    }
   ],
   "source": [
    "confusion_matrix(y_test,prerdictions)"
   ]
  },
  {
   "cell_type": "code",
   "execution_count": 33,
   "metadata": {},
   "outputs": [
    {
     "name": "stdout",
     "output_type": "stream",
     "text": [
      "             precision    recall  f1-score   support\n",
      "\n",
      "        0.0       0.96      1.00      0.98       257\n",
      "        1.0       0.99      0.94      0.97       196\n",
      "\n",
      "avg / total       0.97      0.97      0.97       453\n",
      "\n"
     ]
    }
   ],
   "source": [
    "print(classification_report(y_test,prerdictions))"
   ]
  },
  {
   "cell_type": "code",
   "execution_count": 35,
   "metadata": {},
   "outputs": [],
   "source": [
    "model.save('mysupermodel.h5')"
   ]
  },
  {
   "cell_type": "code",
   "execution_count": 36,
   "metadata": {},
   "outputs": [],
   "source": [
    "from keras.models import load_model"
   ]
  },
  {
   "cell_type": "code",
   "execution_count": 37,
   "metadata": {},
   "outputs": [],
   "source": [
    "newModel = load_model('mysupermodel.h5')"
   ]
  },
  {
   "cell_type": "code",
   "execution_count": 39,
   "metadata": {},
   "outputs": [],
   "source": [
    "#newModel.predict_classes(scaled_X_test)"
   ]
  },
  {
   "cell_type": "code",
   "execution_count": 42,
   "metadata": {},
   "outputs": [
    {
     "data": {
      "text/plain": [
       "0.9735099337748344"
      ]
     },
     "execution_count": 42,
     "metadata": {},
     "output_type": "execute_result"
    }
   ],
   "source": [
    "accuracy_score(y_test, prerdictions)"
   ]
  },
  {
   "cell_type": "code",
   "execution_count": null,
   "metadata": {},
   "outputs": [],
   "source": []
  }
 ],
 "metadata": {
  "kernelspec": {
   "display_name": "Python 3",
   "language": "python",
   "name": "python3"
  },
  "language_info": {
   "codemirror_mode": {
    "name": "ipython",
    "version": 3
   },
   "file_extension": ".py",
   "mimetype": "text/x-python",
   "name": "python",
   "nbconvert_exporter": "python",
   "pygments_lexer": "ipython3",
   "version": "3.6.6"
  }
 },
 "nbformat": 4,
 "nbformat_minor": 2
}
