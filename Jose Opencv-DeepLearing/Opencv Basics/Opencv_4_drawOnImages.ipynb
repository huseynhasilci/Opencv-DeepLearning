{
 "cells": [
  {
   "cell_type": "code",
   "execution_count": 3,
   "metadata": {},
   "outputs": [],
   "source": [
    "import cv2\n",
    "import numpy as np\n",
    "\n",
    "def drawCircle(event,x,y,flags,param):\n",
    "    \n",
    "    if event == cv2.EVENT_LBUTTONDOWN:#yapılan event sol tika basildi mi basildiysa x ve kordinatinda bir circle ciz \n",
    "        cv2.circle(img,(x,y),100,(0,255,0),-1)\n",
    "    if event == cv2.EVENT_RBUTTONDOWN:\n",
    "        cv2.circle(img,(x,y),100,(255,0,0),-1)\n",
    "cv2.namedWindow(winname='myDrawing')\n",
    "cv2.setMouseCallback('myDrawing',drawCircle)# herhangi bir geri donus almak icin fonksiyonu callback ile bagladik\n",
    "\n",
    "\n",
    "\n",
    "img = np.zeros((512,512,3),dtype=np.int8) # int8 for making the bg gray\n",
    "\n",
    "while True:\n",
    "    cv2.imshow('myDrawing',img)\n",
    "    \n",
    "    if cv2.waitKey(20) & 0xFF==27:\n",
    "        break\n",
    "        \n",
    "cv2.destroyAllWindows()"
   ]
  },
  {
   "cell_type": "code",
   "execution_count": null,
   "metadata": {},
   "outputs": [],
   "source": []
  }
 ],
 "metadata": {
  "kernelspec": {
   "display_name": "Python 3",
   "language": "python",
   "name": "python3"
  },
  "language_info": {
   "codemirror_mode": {
    "name": "ipython",
    "version": 3
   },
   "file_extension": ".py",
   "mimetype": "text/x-python",
   "name": "python",
   "nbconvert_exporter": "python",
   "pygments_lexer": "ipython3",
   "version": "3.6.6"
  }
 },
 "nbformat": 4,
 "nbformat_minor": 2
}
